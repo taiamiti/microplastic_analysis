{
 "cells": [
  {
   "cell_type": "code",
   "execution_count": 1,
   "id": "41044fa3",
   "metadata": {
    "scrolled": true
   },
   "outputs": [
    {
     "name": "stdout",
     "output_type": "stream",
     "text": [
      "/home/taiamiti/Projects/microplastic_analysis\n"
     ]
    }
   ],
   "source": [
    "cd ../../"
   ]
  },
  {
   "cell_type": "code",
   "execution_count": 2,
   "id": "0cab8d76-b2b7-479f-a468-539b91dbf521",
   "metadata": {},
   "outputs": [],
   "source": [
    "from src.data_prep import embeddings as emb"
   ]
  },
  {
   "cell_type": "code",
   "execution_count": 3,
   "id": "1fbdc9cd",
   "metadata": {},
   "outputs": [],
   "source": [
    "import fiftyone as fo\n",
    "import os\n",
    "from pathlib import Path"
   ]
  },
  {
   "cell_type": "code",
   "execution_count": 4,
   "id": "c5aad539",
   "metadata": {},
   "outputs": [],
   "source": [
    "from tqdm import tqdm"
   ]
  },
  {
   "cell_type": "markdown",
   "id": "05358ae0-6509-4840-95e2-d7025fbabd9c",
   "metadata": {},
   "source": [
    "## Load lot2 as fiftyone ImageDirectory dataset"
   ]
  },
  {
   "cell_type": "code",
   "execution_count": 5,
   "id": "b23bfe59",
   "metadata": {},
   "outputs": [
    {
     "name": "stdout",
     "output_type": "stream",
     "text": [
      " 100% |███████████████| 2267/2267 [1.3s elapsed, 0s remaining, 1.7K samples/s]         \n"
     ]
    }
   ],
   "source": [
    "export_dir = \"data/raw/lot2-30-05-2023-tak_nacl/\"\n",
    "\n",
    "dataset = fo.Dataset.from_dir(\n",
    "    dataset_type=fo.types.ImageDirectory,\n",
    "    dataset_dir=export_dir,\n",
    "    labels_path=None,\n",
    ")"
   ]
  },
  {
   "cell_type": "markdown",
   "id": "66cbfcc9-76c8-4a0e-a3dc-8cad3e809dae",
   "metadata": {},
   "source": [
    "## Compute and add embeddings"
   ]
  },
  {
   "cell_type": "code",
   "execution_count": 6,
   "id": "7b11410c",
   "metadata": {},
   "outputs": [
    {
     "name": "stderr",
     "output_type": "stream",
     "text": [
      "  0%|          | 0/10 [00:00<?, ?it/s]/home/taiamiti/miniconda3/envs/map_de/lib/python3.9/site-packages/torch/cuda/__init__.py:141: UserWarning: CUDA initialization: The NVIDIA driver on your system is too old (found version 11040). Please update your GPU driver by downloading and installing a new version from the URL: http://www.nvidia.com/Download/index.aspx Alternatively, go to: https://pytorch.org to install a PyTorch version that has been compiled with your version of the CUDA driver. (Triggered internally at ../c10/cuda/CUDAFunctions.cpp:108.)\n",
      "  return torch._C._cuda_getDeviceCount() > 0\n",
      "/home/taiamiti/miniconda3/envs/map_de/lib/python3.9/site-packages/torch/amp/autocast_mode.py:250: UserWarning: User provided device_type of 'cuda', but CUDA is not available. Disabling\n",
      "  warnings.warn(\n",
      "100%|██████████| 10/10 [00:01<00:00,  8.61it/s]\n"
     ]
    }
   ],
   "source": [
    "image_paths = dataset.values(\"filepath\")\n",
    "embeddings = emb.compute_embeddings(image_paths)"
   ]
  },
  {
   "cell_type": "code",
   "execution_count": 7,
   "id": "5dc616ad",
   "metadata": {},
   "outputs": [
    {
     "name": "stdout",
     "output_type": "stream",
     "text": [
      "Generating visualization...\n"
     ]
    },
    {
     "name": "stderr",
     "output_type": "stream",
     "text": [
      "INFO:fiftyone.brain.internal.core.visualization:Generating visualization...\n"
     ]
    },
    {
     "name": "stdout",
     "output_type": "stream",
     "text": [
      "UMAP(random_state=51, verbose=True)\n",
      "Tue Feb 20 14:11:42 2024 Construct fuzzy simplicial set\n",
      "Tue Feb 20 14:11:42 2024 Finding Nearest Neighbors\n"
     ]
    },
    {
     "name": "stderr",
     "output_type": "stream",
     "text": [
      "/home/taiamiti/miniconda3/envs/map_de/lib/python3.9/site-packages/umap/umap_.py:2344: UserWarning: n_neighbors is larger than the dataset size; truncating to X.shape[0] - 1\n",
      "  warn(\n"
     ]
    },
    {
     "name": "stdout",
     "output_type": "stream",
     "text": [
      "Tue Feb 20 14:11:44 2024 Finished Nearest Neighbor Search\n",
      "Tue Feb 20 14:11:46 2024 Construct embedding\n"
     ]
    },
    {
     "data": {
      "application/vnd.jupyter.widget-view+json": {
       "model_id": "1d5bc6378a6e480e9f90654f5e9dfce2",
       "version_major": 2,
       "version_minor": 0
      },
      "text/plain": [
       "Epochs completed:   0%|            0/500 [00:00]"
      ]
     },
     "metadata": {},
     "output_type": "display_data"
    },
    {
     "name": "stdout",
     "output_type": "stream",
     "text": [
      "Tue Feb 20 14:11:47 2024 Finished embedding\n"
     ]
    }
   ],
   "source": [
    "import fiftyone.brain as fob\n",
    "\n",
    "# Compute 2D representation using pre-computed embeddings\n",
    "results = fob.compute_visualization(\n",
    "    dataset,\n",
    "    embeddings=embeddings,\n",
    "    num_dims=2,\n",
    "    brain_key=\"image_embeddings\",\n",
    "    verbose=True,\n",
    "    seed=51,\n",
    ")"
   ]
  },
  {
   "cell_type": "markdown",
   "id": "e9f82398",
   "metadata": {},
   "source": [
    "## Annotate manually cluster based on filter using tags\n",
    "\n",
    "Run the app then select clusters and tag it with DAPI, TRI, CY2, NAT"
   ]
  },
  {
   "cell_type": "code",
   "execution_count": 8,
   "id": "a16dbb67",
   "metadata": {},
   "outputs": [
    {
     "name": "stdout",
     "output_type": "stream",
     "text": [
      "Session launched. Run `session.show()` to open the App in a cell output.\n"
     ]
    },
    {
     "name": "stderr",
     "output_type": "stream",
     "text": [
      "INFO:fiftyone.core.session.session:Session launched. Run `session.show()` to open the App in a cell output.\n"
     ]
    },
    {
     "data": {
      "application/javascript": [
       "window.open('http://localhost:5151/');"
      ],
      "text/plain": [
       "<IPython.core.display.Javascript object>"
      ]
     },
     "metadata": {},
     "output_type": "display_data"
    }
   ],
   "source": [
    "session = fo.launch_app(dataset, auto=False)\n",
    "session.open_tab()"
   ]
  },
  {
   "cell_type": "code",
   "execution_count": 9,
   "id": "6ce9050c",
   "metadata": {},
   "outputs": [
    {
     "data": {
      "text/plain": []
     },
     "metadata": {},
     "output_type": "display_data"
    },
    {
     "data": {
      "text/plain": []
     },
     "metadata": {},
     "output_type": "display_data"
    },
    {
     "data": {
      "application/vnd.jupyter.widget-view+json": {
       "model_id": "692d5a9c8d7f469b925d17bdd0ce9498",
       "version_major": 2,
       "version_minor": 0
      },
      "text/plain": [
       "FigureWidget({\n",
       "    'data': [{'customdata': array(['65d53fb3885bdbca032481d9', '65d53fb3885bdbca032481da',\n",
       "                                   '65d53fb3885bdbca032481db', '65d53fb3885bdbca032481dc',\n",
       "                                   '65d53fb3885bdbca032481dd', '65d53fb3885bdbca032481de',\n",
       "                                   '65d53fb3885bdbca032481df', '65d53fb3885bdbca032481e0',\n",
       "                                   '65d53fb3885bdbca032481e1', '65d53fb3885bdbca032481e2'], dtype=object),\n",
       "              'hovertemplate': 'x, y = %{x:.3f}, %{y:.3f}<br>ID: %{customdata}<extra></extra>',\n",
       "              'mode': 'markers',\n",
       "              'type': 'scattergl',\n",
       "              'uid': 'ddbe4acd-ca0d-4903-801b-a000d55169a0',\n",
       "              'x': array([-14.116757 , -13.452612 , -12.701604 , -12.971095 , -13.426902 ,\n",
       "                          -14.9977255, -14.605405 , -14.354495 , -13.904014 , -13.338925 ],\n",
       "                         dtype=float32),\n",
       "              'y': array([12.319295 , 14.603811 , 12.432488 , 13.559788 , 11.929039 , 13.54576  ,\n",
       "                          14.1943035, 13.127429 , 13.90722  , 12.880157 ], dtype=float32)}],\n",
       "    'layout': {'height': 512,\n",
       "               'margin': {'b': 0, 'l': 0, 'r': 0, 't': 30},\n",
       "               'template': '...',\n",
       "               'yaxis': {'scaleanchor': 'x'}}\n",
       "})"
      ]
     },
     "metadata": {},
     "output_type": "display_data"
    }
   ],
   "source": [
    "# Visualize image embeddings colored by time of day\n",
    "plot = results.visualize(\n",
    "    axis_equal=True,\n",
    ")\n",
    "plot.show(height=512)\n",
    "\n",
    "# Attach plot to session\n",
    "session.plots.attach(plot)"
   ]
  },
  {
   "cell_type": "code",
   "execution_count": null,
   "id": "d6544393",
   "metadata": {},
   "outputs": [],
   "source": [
    "dataset.count_sample_tags()"
   ]
  },
  {
   "cell_type": "markdown",
   "id": "72b58599-95e2-4593-9c72-66083e78322a",
   "metadata": {},
   "source": [
    "## Compute embeddings centers based on annotated tags"
   ]
  },
  {
   "cell_type": "code",
   "execution_count": null,
   "id": "54870272",
   "metadata": {},
   "outputs": [],
   "source": [
    "def get_embedding(embeddings, results, sample_id):\n",
    "    mapping = dict((v, i) for i, v in enumerate(results.sample_ids))\n",
    "    return embeddings[mapping[sample_id], :]"
   ]
  },
  {
   "cell_type": "code",
   "execution_count": null,
   "id": "2b3515ae",
   "metadata": {},
   "outputs": [],
   "source": [
    "embedding_centers = []\n",
    "for tag in ['CY2', 'TRI', 'DAPI', 'NAT']:\n",
    "    mean_embedding_list = []\n",
    "    for sample in dataset.match_tags(tag):\n",
    "        mean_embedding_list.append(get_embedding(embeddings, results, sample.id)[None, :])\n",
    "    embedding_center = np.concatenate(mean_embedding_list).mean(axis=0)[None, :]\n",
    "    embedding_centers.append(embedding_center)"
   ]
  },
  {
   "cell_type": "markdown",
   "id": "758c1202-3c21-4035-9c11-e9cf38d6208b",
   "metadata": {},
   "source": [
    "## Save embeddings centers"
   ]
  },
  {
   "cell_type": "code",
   "execution_count": null,
   "id": "29fc1dcc",
   "metadata": {},
   "outputs": [],
   "source": [
    "embedding_centers_serialized = dict((k,v.tolist()[0]) for k,v in zip(['CY2', 'TRI', 'DAPI', 'NAT'], embedding_centers))"
   ]
  },
  {
   "cell_type": "code",
   "execution_count": null,
   "id": "c2510efb",
   "metadata": {},
   "outputs": [],
   "source": [
    "import json"
   ]
  },
  {
   "cell_type": "code",
   "execution_count": null,
   "id": "dedc4020",
   "metadata": {},
   "outputs": [],
   "source": [
    "out_path = \"data/processed/compute_embedding_filter_centers/embedding_centers_lot2.json\"\n",
    "os.makedirs(os.path.dirname(out_path), exist_ok=True)\n",
    "with open(out_path, \"w\") as f:\n",
    "    json.dump(embedding_centers_serialized, f)"
   ]
  },
  {
   "cell_type": "code",
   "execution_count": null,
   "id": "80013b53",
   "metadata": {},
   "outputs": [],
   "source": []
  }
 ],
 "metadata": {
  "kernelspec": {
   "display_name": "Python 3 (ipykernel)",
   "language": "python",
   "name": "python3"
  },
  "language_info": {
   "codemirror_mode": {
    "name": "ipython",
    "version": 3
   },
   "file_extension": ".py",
   "mimetype": "text/x-python",
   "name": "python",
   "nbconvert_exporter": "python",
   "pygments_lexer": "ipython3",
   "version": "3.9.16"
  }
 },
 "nbformat": 4,
 "nbformat_minor": 5
}
