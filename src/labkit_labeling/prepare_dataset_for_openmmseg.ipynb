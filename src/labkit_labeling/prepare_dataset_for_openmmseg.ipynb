{
 "cells": [
  {
   "cell_type": "code",
   "execution_count": 1,
   "id": "b2b3913b",
   "metadata": {},
   "outputs": [
    {
     "name": "stdout",
     "output_type": "stream",
     "text": [
      "/home/taiamiti/Projects/micro-plastic/data_engineering\n"
     ]
    }
   ],
   "source": [
    "cd .."
   ]
  },
  {
   "cell_type": "code",
   "execution_count": 2,
   "id": "64a14c39",
   "metadata": {},
   "outputs": [],
   "source": [
    "import fiftyone as fo\n",
    "import os"
   ]
  },
  {
   "cell_type": "code",
   "execution_count": 3,
   "id": "4b6e7f5a",
   "metadata": {},
   "outputs": [],
   "source": [
    "from enum import IntEnum\n",
    "from fiftyone import ViewField as F"
   ]
  },
  {
   "cell_type": "code",
   "execution_count": 4,
   "id": "bb9a8268",
   "metadata": {},
   "outputs": [],
   "source": [
    "def load_dataset_from_multiple_sources(datasets_paths):\n",
    "    dataset = fo.Dataset()\n",
    "    for dataset_path in datasets_paths:\n",
    "        dataset_name = os.path.basename(dataset_path)\n",
    "        dataset.add_dir(\n",
    "            dataset_dir=dataset_path,\n",
    "            dataset_type=fo.types.FiftyOneDataset,\n",
    "            tags=dataset_name,\n",
    "        )\n",
    "    return dataset"
   ]
  },
  {
   "cell_type": "code",
   "execution_count": 5,
   "id": "40f2308c",
   "metadata": {},
   "outputs": [],
   "source": [
    "class EvalProtocol(IntEnum):\n",
    "    BENI_INTRA_INTER_ILE = 1\n",
    "    BENI_INTRA_ILE = 2\n",
    "    SED_INTRA_INTER_ILE = 3\n",
    "    SED_BENI_INTRA_INTER_ILE = 4\n",
    "    TRAIN_TEST = 5\n",
    "    UNLABELLED = 6"
   ]
  },
  {
   "cell_type": "code",
   "execution_count": 15,
   "id": "2bd17418",
   "metadata": {},
   "outputs": [],
   "source": [
    "def get_data_dict(fo_dataset, subset, protocol):\n",
    "    assert subset in [\"train\", \"test\", \"unlabelled\"], \"Wrong subset value\"\n",
    "    if protocol == EvalProtocol.BENI_INTRA_INTER_ILE:\n",
    "        if subset == \"train\":\n",
    "            dataset_view = (fo_dataset.match_tags(\"train\")\n",
    "                            .match(F('island') == 'TAK')\n",
    "                            .match(F('sample_type').is_in((\"BENI\", \"CBENI\"))))\n",
    "        else:\n",
    "            dataset_view = fo_dataset.match_tags(\"test\").match(F('sample_type').is_in((\"BENI\", \"CBENI\")))\n",
    "    elif protocol == EvalProtocol.BENI_INTRA_ILE:\n",
    "        dataset_view = fo_dataset.match_tags(subset).match(F('sample_type').is_in((\"BENI\", \"CBENI\")))\n",
    "    elif protocol == EvalProtocol.SED_INTRA_INTER_ILE:\n",
    "        if subset == \"train\":\n",
    "            dataset_view = fo_dataset.match_tags(\"train\").match_tags(\"lot1-20-04-2023-sediments\")\n",
    "        else:\n",
    "            dataset_view = fo_dataset.match_tags(\"test\").match(F('sample_type').is_in((\"SED\", \"CSED\")))\n",
    "    elif protocol == EvalProtocol.SED_BENI_INTRA_INTER_ILE:\n",
    "        if subset == \"train\":\n",
    "            dataset_view = fo_dataset.match_tags(\"train\").match_tags([\"lot1-20-04-2023-benitiers\",\n",
    "                                                                      \"lot1-20-04-2023-sediments\"])\n",
    "        else:\n",
    "            dataset_view = fo_dataset.match_tags(\"test\").match(F('sample_type').is_in((\"BENI\", \"CBENI\", \"SED\", \"CSED\")))\n",
    "    elif protocol == EvalProtocol.TRAIN_TEST:\n",
    "        dataset_view = fo_dataset.match_tags(subset)\n",
    "    elif protocol == EvalProtocol.UNLABELLED:\n",
    "        dataset_view = fo_dataset.match_tags(\"unlabelled\")\n",
    "        return [{\"img\": sample.filepath} for sample in dataset_view]\n",
    "    else:\n",
    "        raise ValueError(\"Wrong protocol, must be of type EvalProtocol\")\n",
    "    sel_files = [{\"img\": sample.filepath, \"seg\": sample.ground_truth.mask_path}\n",
    "                 for sample in dataset_view if os.path.exists(sample.ground_truth.mask_path)]\n",
    "    return sel_files\n",
    "\n",
    "\n",
    "def get_relative_img_paths(ds, subset, protocol, fullpath_prefix):\n",
    "    return [item[\"img\"].replace(fullpath_prefix + \"/\", \"\") for item in get_data_dict(ds, subset, protocol)]\n",
    "\n",
    "\n",
    "def write_annot_file(file_list, save_dir, subset, protocol):\n",
    "    save_name = f\"{subset}_{protocol}\"\n",
    "    save_name = \"{}_{}\".format(subset, str(protocol).replace(\".\", \"_\") + \".txt\")\n",
    "    save_path = os.path.join(save_dir, save_name)\n",
    "    os.makedirs(save_dir, exist_ok=True)\n",
    "\n",
    "    with open(save_path, 'w') as fp:\n",
    "        fp.write('\\n'.join(file_list))"
   ]
  },
  {
   "cell_type": "code",
   "execution_count": 7,
   "id": "3099c7b0",
   "metadata": {},
   "outputs": [],
   "source": [
    "ds_root = \"data/processed/generate_annotated_dataset/\"\n",
    "ds_paths = [os.path.join(ds_root, ds_path) for ds_path in os.listdir(ds_root)]"
   ]
  },
  {
   "cell_type": "code",
   "execution_count": 8,
   "id": "84bb0b68",
   "metadata": {},
   "outputs": [
    {
     "name": "stdout",
     "output_type": "stream",
     "text": [
      "Importing samples...\n",
      " 100% |███████████████████| 49/49 [191.0ms elapsed, 0s remaining, 256.6 samples/s]     \n",
      "Import complete\n",
      "Importing samples...\n",
      " 100% |█████████████████| 337/337 [246.3ms elapsed, 0s remaining, 1.4K samples/s]     \n",
      "Import complete\n",
      "Importing samples...\n",
      " 100% |█████████████████| 730/730 [221.8ms elapsed, 0s remaining, 3.3K samples/s]     \n",
      "Import complete\n",
      "Importing samples...\n",
      " 100% |█████████████████| 374/374 [183.5ms elapsed, 0s remaining, 2.0K samples/s]     \n",
      "Import complete\n",
      "Importing samples...\n",
      " 100% |█████████████████| 635/635 [272.8ms elapsed, 0s remaining, 2.3K samples/s]      \n",
      "Import complete\n",
      "Importing samples...\n",
      " 100% |█████████████████| 448/448 [715.4ms elapsed, 0s remaining, 627.8 samples/s]      \n",
      "Import complete\n",
      "Importing samples...\n",
      " 100% |███████████████| 1502/1502 [724.4ms elapsed, 0s remaining, 2.1K samples/s]      \n",
      "Import complete\n",
      "Importing samples...\n",
      " 100% |█████████████████| 190/190 [109.8ms elapsed, 0s remaining, 1.8K samples/s]     \n",
      "Import complete\n",
      "Importing samples...\n",
      " 100% |█████████████████| 966/966 [386.5ms elapsed, 0s remaining, 2.5K samples/s]      \n",
      "Import complete\n",
      "Importing samples...\n",
      " 100% |███████████████| 2062/2062 [687.6ms elapsed, 0s remaining, 3.0K samples/s]      \n",
      "Import complete\n",
      "Importing samples...\n",
      " 100% |███████████████████| 50/50 [43.3ms elapsed, 0s remaining, 1.2K samples/s]     \n",
      "Import complete\n",
      "Importing samples...\n",
      " 100% |███████████████| 2226/2226 [733.9ms elapsed, 0s remaining, 3.0K samples/s]      \n",
      "Import complete\n",
      "Importing samples...\n",
      " 100% |█████████████████| 897/897 [254.8ms elapsed, 0s remaining, 3.5K samples/s]      \n",
      "Import complete\n",
      "Importing samples...\n",
      " 100% |███████████████| 2100/2100 [819.3ms elapsed, 0s remaining, 2.6K samples/s]      \n",
      "Import complete\n",
      "Importing samples...\n",
      " 100% |███████████████| 1911/1911 [717.0ms elapsed, 0s remaining, 2.7K samples/s]      \n",
      "Import complete\n",
      "Importing samples...\n",
      " 100% |███████████████| 1835/1835 [554.5ms elapsed, 0s remaining, 3.3K samples/s]      \n",
      "Import complete\n"
     ]
    }
   ],
   "source": [
    "ds = load_dataset_from_multiple_sources(ds_paths)"
   ]
  },
  {
   "cell_type": "code",
   "execution_count": 10,
   "id": "c6888a22",
   "metadata": {},
   "outputs": [
    {
     "data": {
      "text/plain": [
       "Name:        2023.11.28.21.01.12\n",
       "Media type:  image\n",
       "Num samples: 16312\n",
       "Persistent:  False\n",
       "Tags:        []\n",
       "Sample fields:\n",
       "    id:            fiftyone.core.fields.ObjectIdField\n",
       "    filepath:      fiftyone.core.fields.StringField\n",
       "    tags:          fiftyone.core.fields.ListField(fiftyone.core.fields.StringField)\n",
       "    metadata:      fiftyone.core.fields.EmbeddedDocumentField(fiftyone.core.metadata.ImageMetadata)\n",
       "    image_path:    fiftyone.core.fields.StringField\n",
       "    sample_type:   fiftyone.core.fields.StringField\n",
       "    island:        fiftyone.core.fields.StringField\n",
       "    station:       fiftyone.core.fields.StringField\n",
       "    replica:       fiftyone.core.fields.StringField\n",
       "    distil:        fiftyone.core.fields.StringField\n",
       "    sample_id:     fiftyone.core.fields.StringField\n",
       "    image_id:      fiftyone.core.fields.StringField\n",
       "    filter:        fiftyone.core.fields.StringField\n",
       "    extra:         fiftyone.core.fields.StringField\n",
       "    date:          fiftyone.core.fields.StringField\n",
       "    exposure_time: fiftyone.core.fields.FloatField\n",
       "    zoom:          fiftyone.core.fields.StringField\n",
       "    obs_id:        fiftyone.core.fields.StringField\n",
       "    embeddings:    fiftyone.core.fields.ListField(fiftyone.core.fields.FloatField)\n",
       "    ground_truth:  fiftyone.core.fields.EmbeddedDocumentField(fiftyone.core.labels.Segmentation)\n",
       "    origin:        fiftyone.core.fields.StringField\n",
       "    filename:      fiftyone.core.fields.StringField\n",
       "    detections:    fiftyone.core.fields.EmbeddedDocumentField(fiftyone.core.labels.Detections)\n",
       "    polylines:     fiftyone.core.fields.EmbeddedDocumentField(fiftyone.core.labels.Polylines)"
      ]
     },
     "execution_count": 10,
     "metadata": {},
     "output_type": "execute_result"
    }
   ],
   "source": [
    "ds"
   ]
  },
  {
   "cell_type": "code",
   "execution_count": 9,
   "id": "e6e8ceff",
   "metadata": {},
   "outputs": [
    {
     "data": {
      "text/plain": [
       "Dataset:     2023.12.04.16.37.18\n",
       "Media type:  image\n",
       "Num samples: 13428\n",
       "Sample fields:\n",
       "    id:            fiftyone.core.fields.ObjectIdField\n",
       "    filepath:      fiftyone.core.fields.StringField\n",
       "    tags:          fiftyone.core.fields.ListField(fiftyone.core.fields.StringField)\n",
       "    metadata:      fiftyone.core.fields.EmbeddedDocumentField(fiftyone.core.metadata.ImageMetadata)\n",
       "    image_path:    fiftyone.core.fields.StringField\n",
       "    sample_type:   fiftyone.core.fields.StringField\n",
       "    island:        fiftyone.core.fields.StringField\n",
       "    station:       fiftyone.core.fields.StringField\n",
       "    replica:       fiftyone.core.fields.StringField\n",
       "    distil:        fiftyone.core.fields.StringField\n",
       "    sample_id:     fiftyone.core.fields.StringField\n",
       "    image_id:      fiftyone.core.fields.StringField\n",
       "    filter:        fiftyone.core.fields.StringField\n",
       "    extra:         fiftyone.core.fields.StringField\n",
       "    date:          fiftyone.core.fields.StringField\n",
       "    exposure_time: fiftyone.core.fields.FloatField\n",
       "    zoom:          fiftyone.core.fields.StringField\n",
       "    obs_id:        fiftyone.core.fields.StringField\n",
       "    embeddings:    fiftyone.core.fields.ListField(fiftyone.core.fields.FloatField)\n",
       "    ground_truth:  fiftyone.core.fields.EmbeddedDocumentField(fiftyone.core.labels.Segmentation)\n",
       "    origin:        fiftyone.core.fields.StringField\n",
       "    filename:      fiftyone.core.fields.StringField\n",
       "    detections:    fiftyone.core.fields.EmbeddedDocumentField(fiftyone.core.labels.Detections)\n",
       "    polylines:     fiftyone.core.fields.EmbeddedDocumentField(fiftyone.core.labels.Polylines)\n",
       "View stages:\n",
       "    1. MatchTags(tags=['unlabelled'], bool=True, all=False)"
      ]
     },
     "execution_count": 9,
     "metadata": {},
     "output_type": "execute_result"
    }
   ],
   "source": [
    "ds.match_tags(\"unlabelled\")"
   ]
  },
  {
   "cell_type": "code",
   "execution_count": 11,
   "id": "a80e3faa",
   "metadata": {},
   "outputs": [
    {
     "data": {
      "text/plain": [
       "Dataset:     2023.11.28.21.01.12\n",
       "Media type:  image\n",
       "Num samples: 255\n",
       "Sample fields:\n",
       "    id:            fiftyone.core.fields.ObjectIdField\n",
       "    filepath:      fiftyone.core.fields.StringField\n",
       "    tags:          fiftyone.core.fields.ListField(fiftyone.core.fields.StringField)\n",
       "    metadata:      fiftyone.core.fields.EmbeddedDocumentField(fiftyone.core.metadata.ImageMetadata)\n",
       "    image_path:    fiftyone.core.fields.StringField\n",
       "    sample_type:   fiftyone.core.fields.StringField\n",
       "    island:        fiftyone.core.fields.StringField\n",
       "    station:       fiftyone.core.fields.StringField\n",
       "    replica:       fiftyone.core.fields.StringField\n",
       "    distil:        fiftyone.core.fields.StringField\n",
       "    sample_id:     fiftyone.core.fields.StringField\n",
       "    image_id:      fiftyone.core.fields.StringField\n",
       "    filter:        fiftyone.core.fields.StringField\n",
       "    extra:         fiftyone.core.fields.StringField\n",
       "    date:          fiftyone.core.fields.StringField\n",
       "    exposure_time: fiftyone.core.fields.FloatField\n",
       "    zoom:          fiftyone.core.fields.StringField\n",
       "    obs_id:        fiftyone.core.fields.StringField\n",
       "    embeddings:    fiftyone.core.fields.ListField(fiftyone.core.fields.FloatField)\n",
       "    ground_truth:  fiftyone.core.fields.EmbeddedDocumentField(fiftyone.core.labels.Segmentation)\n",
       "    origin:        fiftyone.core.fields.StringField\n",
       "    filename:      fiftyone.core.fields.StringField\n",
       "    detections:    fiftyone.core.fields.EmbeddedDocumentField(fiftyone.core.labels.Detections)\n",
       "    polylines:     fiftyone.core.fields.EmbeddedDocumentField(fiftyone.core.labels.Polylines)\n",
       "View stages:\n",
       "    1. MatchTags(tags=['test'], bool=True, all=False)\n",
       "    2. Match(filter={'$expr': {'$in': [...]}})"
      ]
     },
     "execution_count": 11,
     "metadata": {},
     "output_type": "execute_result"
    }
   ],
   "source": [
    "ds.match_tags(\"test\").match(F('sample_type').is_in((\"BENI\", \"CBENI\")))"
   ]
  },
  {
   "cell_type": "code",
   "execution_count": 12,
   "id": "fddb2ee4",
   "metadata": {},
   "outputs": [
    {
     "data": {
      "text/plain": [
       "{'lot4-28-06-2023-sediments-part3': 966,\n",
       " 'lot6-12-08-2023-eau-horizontal': 2226,\n",
       " 'lot10-09-10-2023-benitiers': 730,\n",
       " 'lot2-30-05-2023-tak_nai': 635,\n",
       " 'lot2-30-05-2023-tak_nacl': 374,\n",
       " 'lot1-20-04-2023-sediments': 337,\n",
       " 'lot5-04-07-2023-benitiers-part2': 50,\n",
       " 'lot1-20-04-2023-benitiers': 49,\n",
       " 'train': 1945,\n",
       " 'lot3-08-06-2023-benitiers': 448,\n",
       " 'unlabelled': 13428,\n",
       " 'lot6-12-08-2023-eau-vertical': 897,\n",
       " 'lot8-28-09-2023-benitiers': 1911,\n",
       " 'test': 848,\n",
       " 'lot4-28-06-2023-sediments-part1': 1502,\n",
       " 'lot4-28-06-2023-sediments-part2': 190,\n",
       " 'lot9-09-10-2023-benitiers': 1835,\n",
       " 'lot5-04-07-2023-benitiers-part1': 2062,\n",
       " 'lot7-28-09-2023-benitiers': 2100}"
      ]
     },
     "execution_count": 12,
     "metadata": {},
     "output_type": "execute_result"
    }
   ],
   "source": [
    "ds.count_sample_tags()"
   ]
  },
  {
   "cell_type": "code",
   "execution_count": 13,
   "id": "debd272f",
   "metadata": {},
   "outputs": [
    {
     "data": {
      "text/plain": [
       "Dataset:     2023.11.28.21.01.12\n",
       "Media type:  image\n",
       "Num samples: 0\n",
       "Sample fields:\n",
       "    id:            fiftyone.core.fields.ObjectIdField\n",
       "    filepath:      fiftyone.core.fields.StringField\n",
       "    tags:          fiftyone.core.fields.ListField(fiftyone.core.fields.StringField)\n",
       "    metadata:      fiftyone.core.fields.EmbeddedDocumentField(fiftyone.core.metadata.ImageMetadata)\n",
       "    image_path:    fiftyone.core.fields.StringField\n",
       "    sample_type:   fiftyone.core.fields.StringField\n",
       "    island:        fiftyone.core.fields.StringField\n",
       "    station:       fiftyone.core.fields.StringField\n",
       "    replica:       fiftyone.core.fields.StringField\n",
       "    distil:        fiftyone.core.fields.StringField\n",
       "    sample_id:     fiftyone.core.fields.StringField\n",
       "    image_id:      fiftyone.core.fields.StringField\n",
       "    filter:        fiftyone.core.fields.StringField\n",
       "    extra:         fiftyone.core.fields.StringField\n",
       "    date:          fiftyone.core.fields.StringField\n",
       "    exposure_time: fiftyone.core.fields.FloatField\n",
       "    zoom:          fiftyone.core.fields.StringField\n",
       "    obs_id:        fiftyone.core.fields.StringField\n",
       "    embeddings:    fiftyone.core.fields.ListField(fiftyone.core.fields.FloatField)\n",
       "    ground_truth:  fiftyone.core.fields.EmbeddedDocumentField(fiftyone.core.labels.Segmentation)\n",
       "    origin:        fiftyone.core.fields.StringField\n",
       "    filename:      fiftyone.core.fields.StringField\n",
       "    detections:    fiftyone.core.fields.EmbeddedDocumentField(fiftyone.core.labels.Detections)\n",
       "    polylines:     fiftyone.core.fields.EmbeddedDocumentField(fiftyone.core.labels.Polylines)\n",
       "View stages:\n",
       "    1. MatchTags(tags=['lot3-08-06-2023-benitiers'], bool=True, all=False)\n",
       "    2. MatchTags(tags=['unlabelled'], bool=True, all=False)"
      ]
     },
     "execution_count": 13,
     "metadata": {},
     "output_type": "execute_result"
    }
   ],
   "source": [
    "ds.match_tags(['lot3-08-06-2023-benitiers']).match_tags('unlabelled')"
   ]
  },
  {
   "cell_type": "code",
   "execution_count": 14,
   "id": "4e0833e3",
   "metadata": {},
   "outputs": [
    {
     "data": {
      "text/plain": [
       "Dataset:     2023.11.28.21.01.12\n",
       "Media type:  image\n",
       "Num samples: 102\n",
       "Sample fields:\n",
       "    id:            fiftyone.core.fields.ObjectIdField\n",
       "    filepath:      fiftyone.core.fields.StringField\n",
       "    tags:          fiftyone.core.fields.ListField(fiftyone.core.fields.StringField)\n",
       "    metadata:      fiftyone.core.fields.EmbeddedDocumentField(fiftyone.core.metadata.ImageMetadata)\n",
       "    image_path:    fiftyone.core.fields.StringField\n",
       "    sample_type:   fiftyone.core.fields.StringField\n",
       "    island:        fiftyone.core.fields.StringField\n",
       "    station:       fiftyone.core.fields.StringField\n",
       "    replica:       fiftyone.core.fields.StringField\n",
       "    distil:        fiftyone.core.fields.StringField\n",
       "    sample_id:     fiftyone.core.fields.StringField\n",
       "    image_id:      fiftyone.core.fields.StringField\n",
       "    filter:        fiftyone.core.fields.StringField\n",
       "    extra:         fiftyone.core.fields.StringField\n",
       "    date:          fiftyone.core.fields.StringField\n",
       "    exposure_time: fiftyone.core.fields.FloatField\n",
       "    zoom:          fiftyone.core.fields.StringField\n",
       "    obs_id:        fiftyone.core.fields.StringField\n",
       "    embeddings:    fiftyone.core.fields.ListField(fiftyone.core.fields.FloatField)\n",
       "    ground_truth:  fiftyone.core.fields.EmbeddedDocumentField(fiftyone.core.labels.Segmentation)\n",
       "    origin:        fiftyone.core.fields.StringField\n",
       "    filename:      fiftyone.core.fields.StringField\n",
       "    detections:    fiftyone.core.fields.EmbeddedDocumentField(fiftyone.core.labels.Detections)\n",
       "    polylines:     fiftyone.core.fields.EmbeddedDocumentField(fiftyone.core.labels.Polylines)\n",
       "View stages:\n",
       "    1. MatchTags(tags=['test'], bool=True, all=False)\n",
       "    2. MatchTags(tags=['lot1-20-04-2023-sediments'], bool=True, all=False)"
      ]
     },
     "execution_count": 14,
     "metadata": {},
     "output_type": "execute_result"
    }
   ],
   "source": [
    "ds.match_tags(\"test\").match_tags(\"lot1-20-04-2023-sediments\")"
   ]
  },
  {
   "cell_type": "code",
   "execution_count": 15,
   "id": "9a74c30a",
   "metadata": {},
   "outputs": [
    {
     "data": {
      "text/plain": [
       "Dataset:     2023.11.28.21.01.12\n",
       "Media type:  image\n",
       "Num samples: 587\n",
       "Sample fields:\n",
       "    id:            fiftyone.core.fields.ObjectIdField\n",
       "    filepath:      fiftyone.core.fields.StringField\n",
       "    tags:          fiftyone.core.fields.ListField(fiftyone.core.fields.StringField)\n",
       "    metadata:      fiftyone.core.fields.EmbeddedDocumentField(fiftyone.core.metadata.ImageMetadata)\n",
       "    image_path:    fiftyone.core.fields.StringField\n",
       "    sample_type:   fiftyone.core.fields.StringField\n",
       "    island:        fiftyone.core.fields.StringField\n",
       "    station:       fiftyone.core.fields.StringField\n",
       "    replica:       fiftyone.core.fields.StringField\n",
       "    distil:        fiftyone.core.fields.StringField\n",
       "    sample_id:     fiftyone.core.fields.StringField\n",
       "    image_id:      fiftyone.core.fields.StringField\n",
       "    filter:        fiftyone.core.fields.StringField\n",
       "    extra:         fiftyone.core.fields.StringField\n",
       "    date:          fiftyone.core.fields.StringField\n",
       "    exposure_time: fiftyone.core.fields.FloatField\n",
       "    zoom:          fiftyone.core.fields.StringField\n",
       "    obs_id:        fiftyone.core.fields.StringField\n",
       "    embeddings:    fiftyone.core.fields.ListField(fiftyone.core.fields.FloatField)\n",
       "    ground_truth:  fiftyone.core.fields.EmbeddedDocumentField(fiftyone.core.labels.Segmentation)\n",
       "    origin:        fiftyone.core.fields.StringField\n",
       "    filename:      fiftyone.core.fields.StringField\n",
       "    detections:    fiftyone.core.fields.EmbeddedDocumentField(fiftyone.core.labels.Detections)\n",
       "    polylines:     fiftyone.core.fields.EmbeddedDocumentField(fiftyone.core.labels.Polylines)\n",
       "View stages:\n",
       "    1. MatchTags(tags=['lot2-30-05-2023-tak_nacl', 'lot2-30-05-2023-tak_nai'], bool=True, all=False)\n",
       "    2. MatchTags(tags=['train'], bool=True, all=False)"
      ]
     },
     "execution_count": 15,
     "metadata": {},
     "output_type": "execute_result"
    }
   ],
   "source": [
    "ds.match_tags(['lot2-30-05-2023-tak_nacl', 'lot2-30-05-2023-tak_nai']).match_tags('train')"
   ]
  },
  {
   "cell_type": "code",
   "execution_count": 16,
   "id": "9452829b",
   "metadata": {},
   "outputs": [
    {
     "data": {
      "text/plain": [
       "Dataset:     2023.11.28.21.01.12\n",
       "Media type:  image\n",
       "Num samples: 822\n",
       "Sample fields:\n",
       "    id:            fiftyone.core.fields.ObjectIdField\n",
       "    filepath:      fiftyone.core.fields.StringField\n",
       "    tags:          fiftyone.core.fields.ListField(fiftyone.core.fields.StringField)\n",
       "    metadata:      fiftyone.core.fields.EmbeddedDocumentField(fiftyone.core.metadata.ImageMetadata)\n",
       "    image_path:    fiftyone.core.fields.StringField\n",
       "    sample_type:   fiftyone.core.fields.StringField\n",
       "    island:        fiftyone.core.fields.StringField\n",
       "    station:       fiftyone.core.fields.StringField\n",
       "    replica:       fiftyone.core.fields.StringField\n",
       "    distil:        fiftyone.core.fields.StringField\n",
       "    sample_id:     fiftyone.core.fields.StringField\n",
       "    image_id:      fiftyone.core.fields.StringField\n",
       "    filter:        fiftyone.core.fields.StringField\n",
       "    extra:         fiftyone.core.fields.StringField\n",
       "    date:          fiftyone.core.fields.StringField\n",
       "    exposure_time: fiftyone.core.fields.FloatField\n",
       "    zoom:          fiftyone.core.fields.StringField\n",
       "    obs_id:        fiftyone.core.fields.StringField\n",
       "    embeddings:    fiftyone.core.fields.ListField(fiftyone.core.fields.FloatField)\n",
       "    ground_truth:  fiftyone.core.fields.EmbeddedDocumentField(fiftyone.core.labels.Segmentation)\n",
       "    origin:        fiftyone.core.fields.StringField\n",
       "    filename:      fiftyone.core.fields.StringField\n",
       "    detections:    fiftyone.core.fields.EmbeddedDocumentField(fiftyone.core.labels.Detections)\n",
       "    polylines:     fiftyone.core.fields.EmbeddedDocumentField(fiftyone.core.labels.Polylines)\n",
       "View stages:\n",
       "    1. MatchTags(tags=['lot1-20-04-2023-sediments', 'lot2-30-05-2023-tak_nacl', 'lot2-30-05-2023-tak_nai'], bool=True, all=False)\n",
       "    2. MatchTags(tags=['train'], bool=True, all=False)"
      ]
     },
     "execution_count": 16,
     "metadata": {},
     "output_type": "execute_result"
    }
   ],
   "source": [
    "ds.match_tags(['lot1-20-04-2023-sediments', 'lot2-30-05-2023-tak_nacl', 'lot2-30-05-2023-tak_nai']).match_tags('train')"
   ]
  },
  {
   "cell_type": "code",
   "execution_count": 17,
   "id": "3a43ac61",
   "metadata": {},
   "outputs": [
    {
     "data": {
      "text/plain": [
       "Dataset:     2023.11.28.21.01.12\n",
       "Media type:  image\n",
       "Num samples: 2020\n",
       "Sample fields:\n",
       "    id:            fiftyone.core.fields.ObjectIdField\n",
       "    filepath:      fiftyone.core.fields.StringField\n",
       "    tags:          fiftyone.core.fields.ListField(fiftyone.core.fields.StringField)\n",
       "    metadata:      fiftyone.core.fields.EmbeddedDocumentField(fiftyone.core.metadata.ImageMetadata)\n",
       "    image_path:    fiftyone.core.fields.StringField\n",
       "    sample_type:   fiftyone.core.fields.StringField\n",
       "    island:        fiftyone.core.fields.StringField\n",
       "    station:       fiftyone.core.fields.StringField\n",
       "    replica:       fiftyone.core.fields.StringField\n",
       "    distil:        fiftyone.core.fields.StringField\n",
       "    sample_id:     fiftyone.core.fields.StringField\n",
       "    image_id:      fiftyone.core.fields.StringField\n",
       "    filter:        fiftyone.core.fields.StringField\n",
       "    extra:         fiftyone.core.fields.StringField\n",
       "    date:          fiftyone.core.fields.StringField\n",
       "    exposure_time: fiftyone.core.fields.FloatField\n",
       "    zoom:          fiftyone.core.fields.StringField\n",
       "    obs_id:        fiftyone.core.fields.StringField\n",
       "    embeddings:    fiftyone.core.fields.ListField(fiftyone.core.fields.FloatField)\n",
       "    ground_truth:  fiftyone.core.fields.EmbeddedDocumentField(fiftyone.core.labels.Segmentation)\n",
       "    origin:        fiftyone.core.fields.StringField\n",
       "    filename:      fiftyone.core.fields.StringField\n",
       "    detections:    fiftyone.core.fields.EmbeddedDocumentField(fiftyone.core.labels.Detections)\n",
       "    polylines:     fiftyone.core.fields.EmbeddedDocumentField(fiftyone.core.labels.Polylines)\n",
       "View stages:\n",
       "    1. MatchTags(tags=['lot4-28-06-2...diments-part1', 'lot4-28-06-2...diments-part2', 'lot4-28-06-2...diments-part3'], bool=True, all=False)\n",
       "    2. MatchTags(tags=['unlabelled'], bool=True, all=False)"
      ]
     },
     "execution_count": 17,
     "metadata": {},
     "output_type": "execute_result"
    }
   ],
   "source": [
    "ds.match_tags(['lot4-28-06-2023-sediments-part1', 'lot4-28-06-2023-sediments-part2', 'lot4-28-06-2023-sediments-part3']).match_tags('unlabelled')"
   ]
  },
  {
   "cell_type": "code",
   "execution_count": 18,
   "id": "942f7c15",
   "metadata": {},
   "outputs": [
    {
     "data": {
      "text/plain": [
       "Dataset:     2023.11.28.21.01.12\n",
       "Media type:  image\n",
       "Num samples: 1262\n",
       "Sample fields:\n",
       "    id:            fiftyone.core.fields.ObjectIdField\n",
       "    filepath:      fiftyone.core.fields.StringField\n",
       "    tags:          fiftyone.core.fields.ListField(fiftyone.core.fields.StringField)\n",
       "    metadata:      fiftyone.core.fields.EmbeddedDocumentField(fiftyone.core.metadata.ImageMetadata)\n",
       "    image_path:    fiftyone.core.fields.StringField\n",
       "    sample_type:   fiftyone.core.fields.StringField\n",
       "    island:        fiftyone.core.fields.StringField\n",
       "    station:       fiftyone.core.fields.StringField\n",
       "    replica:       fiftyone.core.fields.StringField\n",
       "    distil:        fiftyone.core.fields.StringField\n",
       "    sample_id:     fiftyone.core.fields.StringField\n",
       "    image_id:      fiftyone.core.fields.StringField\n",
       "    filter:        fiftyone.core.fields.StringField\n",
       "    extra:         fiftyone.core.fields.StringField\n",
       "    date:          fiftyone.core.fields.StringField\n",
       "    exposure_time: fiftyone.core.fields.FloatField\n",
       "    zoom:          fiftyone.core.fields.StringField\n",
       "    obs_id:        fiftyone.core.fields.StringField\n",
       "    embeddings:    fiftyone.core.fields.ListField(fiftyone.core.fields.FloatField)\n",
       "    ground_truth:  fiftyone.core.fields.EmbeddedDocumentField(fiftyone.core.labels.Segmentation)\n",
       "    origin:        fiftyone.core.fields.StringField\n",
       "    filename:      fiftyone.core.fields.StringField\n",
       "    detections:    fiftyone.core.fields.EmbeddedDocumentField(fiftyone.core.labels.Detections)\n",
       "    polylines:     fiftyone.core.fields.EmbeddedDocumentField(fiftyone.core.labels.Polylines)\n",
       "View stages:\n",
       "    1. MatchTags(tags=['train'], bool=True, all=False)\n",
       "    2. Match(filter={'$expr': {'$in': [...]}})"
      ]
     },
     "execution_count": 18,
     "metadata": {},
     "output_type": "execute_result"
    }
   ],
   "source": [
    "ds.match_tags('train').match(F('sample_type').is_in((\"SED\", \"CSED\")))"
   ]
  },
  {
   "cell_type": "code",
   "execution_count": null,
   "id": "377b2be5",
   "metadata": {},
   "outputs": [],
   "source": []
  },
  {
   "cell_type": "raw",
   "id": "3191b9fc",
   "metadata": {},
   "source": [
    "remote_ds = fo.Dataset.from_dir(\n",
    "    dataset_dir=\"data/processed/remote_fiftyone/backup_dataset2/\",\n",
    "    dataset_type=fo.types.FiftyOneDataset,\n",
    ")"
   ]
  },
  {
   "cell_type": "raw",
   "id": "76734ce2",
   "metadata": {},
   "source": [
    "remote_ds.count_sample_tags()"
   ]
  },
  {
   "cell_type": "raw",
   "id": "56d00f3b",
   "metadata": {},
   "source": [
    "remote_ds.count_label_tags()  # mistake, used label tags instead of sample tags"
   ]
  },
  {
   "cell_type": "raw",
   "id": "2b0b8844",
   "metadata": {},
   "source": [
    "bad_gts = remote_ds.match_tags([\"bad gt\"])"
   ]
  },
  {
   "cell_type": "raw",
   "id": "05464760",
   "metadata": {},
   "source": [
    "ds[bad_gts.values(\"id\")].tag_samples('bad_gt')"
   ]
  },
  {
   "cell_type": "code",
   "execution_count": 19,
   "id": "b0616257",
   "metadata": {},
   "outputs": [
    {
     "data": {
      "text/plain": [
       "{'lot6-12-08-2023-eau-horizontal': 2226,\n",
       " 'lot10-09-10-2023-benitiers': 730,\n",
       " 'lot2-30-05-2023-tak_nai': 635,\n",
       " 'lot1-20-04-2023-sediments': 337,\n",
       " 'lot2-30-05-2023-tak_nacl': 374,\n",
       " 'lot5-04-07-2023-benitiers-part2': 50,\n",
       " 'train': 1945,\n",
       " 'lot1-20-04-2023-benitiers': 49,\n",
       " 'unlabelled': 13428,\n",
       " 'lot3-08-06-2023-benitiers': 448,\n",
       " 'lot6-12-08-2023-eau-vertical': 897,\n",
       " 'lot8-28-09-2023-benitiers': 1911,\n",
       " 'test': 848,\n",
       " 'lot4-28-06-2023-sediments-part1': 1502,\n",
       " 'lot4-28-06-2023-sediments-part2': 190,\n",
       " 'lot9-09-10-2023-benitiers': 1835,\n",
       " 'lot7-28-09-2023-benitiers': 2100,\n",
       " 'lot5-04-07-2023-benitiers-part1': 2062,\n",
       " 'lot4-28-06-2023-sediments-part3': 966}"
      ]
     },
     "execution_count": 19,
     "metadata": {},
     "output_type": "execute_result"
    }
   ],
   "source": [
    "ds.count_sample_tags()"
   ]
  },
  {
   "cell_type": "code",
   "execution_count": 20,
   "id": "b46ba59b",
   "metadata": {},
   "outputs": [
    {
     "data": {
      "text/plain": [
       "374.0"
      ]
     },
     "execution_count": 20,
     "metadata": {},
     "output_type": "execute_result"
    }
   ],
   "source": [
    "1496/4"
   ]
  },
  {
   "cell_type": "code",
   "execution_count": 21,
   "id": "191b1d07",
   "metadata": {},
   "outputs": [
    {
     "data": {
      "text/plain": [
       "Name:        2023.11.28.21.01.12\n",
       "Media type:  image\n",
       "Num samples: 16312\n",
       "Persistent:  False\n",
       "Tags:        []\n",
       "Sample fields:\n",
       "    id:            fiftyone.core.fields.ObjectIdField\n",
       "    filepath:      fiftyone.core.fields.StringField\n",
       "    tags:          fiftyone.core.fields.ListField(fiftyone.core.fields.StringField)\n",
       "    metadata:      fiftyone.core.fields.EmbeddedDocumentField(fiftyone.core.metadata.ImageMetadata)\n",
       "    image_path:    fiftyone.core.fields.StringField\n",
       "    sample_type:   fiftyone.core.fields.StringField\n",
       "    island:        fiftyone.core.fields.StringField\n",
       "    station:       fiftyone.core.fields.StringField\n",
       "    replica:       fiftyone.core.fields.StringField\n",
       "    distil:        fiftyone.core.fields.StringField\n",
       "    sample_id:     fiftyone.core.fields.StringField\n",
       "    image_id:      fiftyone.core.fields.StringField\n",
       "    filter:        fiftyone.core.fields.StringField\n",
       "    extra:         fiftyone.core.fields.StringField\n",
       "    date:          fiftyone.core.fields.StringField\n",
       "    exposure_time: fiftyone.core.fields.FloatField\n",
       "    zoom:          fiftyone.core.fields.StringField\n",
       "    obs_id:        fiftyone.core.fields.StringField\n",
       "    embeddings:    fiftyone.core.fields.ListField(fiftyone.core.fields.FloatField)\n",
       "    ground_truth:  fiftyone.core.fields.EmbeddedDocumentField(fiftyone.core.labels.Segmentation)\n",
       "    origin:        fiftyone.core.fields.StringField\n",
       "    filename:      fiftyone.core.fields.StringField\n",
       "    detections:    fiftyone.core.fields.EmbeddedDocumentField(fiftyone.core.labels.Detections)\n",
       "    polylines:     fiftyone.core.fields.EmbeddedDocumentField(fiftyone.core.labels.Polylines)"
      ]
     },
     "execution_count": 21,
     "metadata": {},
     "output_type": "execute_result"
    }
   ],
   "source": [
    "ds"
   ]
  },
  {
   "cell_type": "code",
   "execution_count": 22,
   "id": "856d3eab",
   "metadata": {},
   "outputs": [],
   "source": [
    "beni_view = ds.match(F('sample_type').is_in((\"BENI\", \"CBENI\"))).filter_labels(\"detections\", F(\"score\") > 0.2)\n",
    "sed_view = ds.match(F('sample_type').is_in((\"SED\", \"CSED\"))).filter_labels(\"detections\", F(\"score\") > 0.35)\n",
    "merged_view = beni_view + sed_view\n",
    "merged_view_clean = merged_view.match_tags('bad_gt', bool=False)"
   ]
  },
  {
   "cell_type": "code",
   "execution_count": 23,
   "id": "e9dbddfc",
   "metadata": {},
   "outputs": [
    {
     "name": "stdout",
     "output_type": "stream",
     "text": [
      "Session launched. Run `session.show()` to open the App in a cell output.\n"
     ]
    },
    {
     "data": {
      "application/javascript": [
       "window.open('http://localhost:5151/');"
      ],
      "text/plain": [
       "<IPython.core.display.Javascript object>"
      ]
     },
     "metadata": {},
     "output_type": "display_data"
    }
   ],
   "source": [
    "session = fo.launch_app(ds, auto=False)\n",
    "session.open_tab()"
   ]
  },
  {
   "cell_type": "code",
   "execution_count": null,
   "id": "89fdecc1",
   "metadata": {},
   "outputs": [],
   "source": [
    "view_filtered_out = (ds.match(F('sample_type').is_in((\"BENI\", \"CBENI\")))\n",
    "         .filter_labels(\"detections\", F(\"score\") > 0.2, only_matches=False)\n",
    "         .match(F('detections.detections').length() == 0)\n",
    "        )"
   ]
  },
  {
   "cell_type": "code",
   "execution_count": null,
   "id": "f6096bff",
   "metadata": {},
   "outputs": [],
   "source": [
    "view_filtered_out"
   ]
  },
  {
   "cell_type": "code",
   "execution_count": null,
   "id": "c008cf15",
   "metadata": {},
   "outputs": [],
   "source": [
    "session.view = view_filtered_out"
   ]
  },
  {
   "cell_type": "code",
   "execution_count": null,
   "id": "978237a6",
   "metadata": {},
   "outputs": [],
   "source": [
    "merged_view_clean.match_tags(\"test\").match(F('sample_type').is_in((\"BENI\", \"CBENI\")))"
   ]
  },
  {
   "cell_type": "code",
   "execution_count": null,
   "id": "5c121ae0",
   "metadata": {},
   "outputs": [],
   "source": []
  },
  {
   "cell_type": "code",
   "execution_count": null,
   "id": "410cfda1",
   "metadata": {},
   "outputs": [],
   "source": []
  },
  {
   "cell_type": "code",
   "execution_count": 10,
   "id": "021a9626",
   "metadata": {},
   "outputs": [],
   "source": [
    "save_dir = \"data/processed/prepare_dataset_for_openmmseg2/\""
   ]
  },
  {
   "cell_type": "code",
   "execution_count": 25,
   "id": "bc06007d",
   "metadata": {},
   "outputs": [
    {
     "name": "stdout",
     "output_type": "stream",
     "text": [
      " 100% |█████████████| 16312/16312 [7.3m elapsed, 0s remaining, 54.7 samples/s]      \n"
     ]
    }
   ],
   "source": [
    "# merged_view_clean.export(\n",
    "#     export_dir=save_dir,\n",
    "#     dataset_type=fo.types.ImageSegmentationDirectory,\n",
    "#     label_field='detections',\n",
    "#     export_media=True,\n",
    "#     rel_dir=os.path.abspath(ds_root)    \n",
    "# )\n",
    "\n",
    "ds.export(\n",
    "    export_dir=save_dir,\n",
    "    dataset_type=fo.types.ImageSegmentationDirectory,\n",
    "    label_field='detections',\n",
    "    export_media=True,\n",
    "    rel_dir=os.path.abspath(ds_root)    \n",
    ")"
   ]
  },
  {
   "cell_type": "code",
   "execution_count": 11,
   "id": "d34ef3e0",
   "metadata": {},
   "outputs": [],
   "source": [
    "fullpath_prefix = os.path.abspath(ds_root)"
   ]
  },
  {
   "cell_type": "code",
   "execution_count": 16,
   "id": "ef9f62f6",
   "metadata": {},
   "outputs": [],
   "source": [
    "for protocol in EvalProtocol:\n",
    "    if protocol == EvalProtocol.UNLABELLED:\n",
    "        file_list = get_relative_img_paths(ds, \"unlabelled\", protocol, fullpath_prefix)\n",
    "        write_annot_file(file_list, save_dir, \"unlabelled\", protocol)\n",
    "    for subset in [\"train\", \"test\"]:\n",
    "#         file_list = get_relative_img_paths(merged_view_clean, subset, protocol, fullpath_prefix)\n",
    "        file_list = get_relative_img_paths(ds, subset, protocol, fullpath_prefix)\n",
    "        write_annot_file(file_list, save_dir, subset, protocol)"
   ]
  },
  {
   "cell_type": "code",
   "execution_count": null,
   "id": "71810f96",
   "metadata": {},
   "outputs": [],
   "source": []
  }
 ],
 "metadata": {
  "kernelspec": {
   "display_name": "Python 3 (ipykernel)",
   "language": "python",
   "name": "python3"
  },
  "language_info": {
   "codemirror_mode": {
    "name": "ipython",
    "version": 3
   },
   "file_extension": ".py",
   "mimetype": "text/x-python",
   "name": "python",
   "nbconvert_exporter": "python",
   "pygments_lexer": "ipython3",
   "version": "3.9.16"
  }
 },
 "nbformat": 4,
 "nbformat_minor": 5
}
